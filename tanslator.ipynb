{
 "cells": [
  {
   "cell_type": "markdown",
   "id": "dominant-fellow",
   "metadata": {},
   "source": [
    "## itinerario "
   ]
  },
  {
   "cell_type": "raw",
   "id": "independent-librarian",
   "metadata": {},
   "source": [
    "read index file\n",
    "remove numbers"
   ]
  },
  {
   "cell_type": "raw",
   "id": "pleasant-starter",
   "metadata": {},
   "source": [
    "read five paragraps\n",
    "transforms to list of paragraps"
   ]
  },
  {
   "cell_type": "markdown",
   "id": "impressive-pollution",
   "metadata": {},
   "source": [
    "###  code snipet googletrans"
   ]
  },
  {
   "cell_type": "code",
   "execution_count": null,
   "id": "diagnostic-aquarium",
   "metadata": {},
   "outputs": [],
   "source": [
    "import googletrans\n",
    "\n",
    "print(googletrans.LANGUAGES)"
   ]
  },
  {
   "cell_type": "code",
   "execution_count": null,
   "id": "statutory-moses",
   "metadata": {},
   "outputs": [],
   "source": [
    "from googletrans import Translator"
   ]
  },
  {
   "cell_type": "code",
   "execution_count": null,
   "id": "alone-meter",
   "metadata": {},
   "outputs": [],
   "source": [
    "translator = Translator()"
   ]
  },
  {
   "cell_type": "code",
   "execution_count": null,
   "id": "native-applicant",
   "metadata": {},
   "outputs": [],
   "source": [
    "result = translator.translate('some text to translate')"
   ]
  },
  {
   "cell_type": "raw",
   "id": "accessible-zambia",
   "metadata": {},
   "source": [
    "the object returned by the translate() method has the followin attributes\n",
    "\n",
    "* src\n",
    "* dest\n",
    "* origin\n",
    "* text\n",
    "* pronunciation"
   ]
  },
  {
   "cell_type": "code",
   "execution_count": null,
   "id": "treated-champagne",
   "metadata": {},
   "outputs": [],
   "source": [
    "# specifying source and destination\n",
    "\n",
    "result = translator.translate('some text', src='sp', dest='en')"
   ]
  },
  {
   "cell_type": "code",
   "execution_count": null,
   "id": "dynamic-shape",
   "metadata": {},
   "outputs": [],
   "source": [
    "# translate list of phrases\n",
    "\n",
    "sentences ['one sentence (or paraghraph)', 'two sentence or (short paraghrap)']\n",
    "\n",
    "result = translator.translate(sentences,src='en',dest='es')\n",
    "\n",
    "for res in result:\n",
    "    print(res.text,'<-->',res.origin)"
   ]
  },
  {
   "cell_type": "code",
   "execution_count": null,
   "id": "configured-allen",
   "metadata": {},
   "outputs": [],
   "source": [
    "# translate entire document\n",
    "\n",
    "f = open('/path/to/file','r')\n",
    "\n",
    "if f.mode == 'r':\n",
    "    content = f.read()\n",
    "    f.close()"
   ]
  },
  {
   "cell_type": "code",
   "execution_count": null,
   "id": "powered-retention",
   "metadata": {},
   "outputs": [],
   "source": [
    "file_translate = Translator()\n",
    "\n",
    "result = translator.translate(contents, dest='fr')\n",
    "result.text"
   ]
  },
  {
   "cell_type": "code",
   "execution_count": null,
   "id": "confused-estonia",
   "metadata": {},
   "outputs": [],
   "source": [
    "with open('/path/to/store', 'w') as file_handler:\n",
    "    file_handler.write(result.text)"
   ]
  },
  {
   "cell_type": "markdown",
   "id": "academic-review",
   "metadata": {},
   "source": [
    "### do something with above "
   ]
  },
  {
   "cell_type": "code",
   "execution_count": null,
   "id": "swedish-christopher",
   "metadata": {},
   "outputs": [],
   "source": []
  }
 ],
 "metadata": {
  "kernelspec": {
   "display_name": "Python 3",
   "language": "python",
   "name": "python3"
  },
  "language_info": {
   "codemirror_mode": {
    "name": "ipython",
    "version": 3
   },
   "file_extension": ".py",
   "mimetype": "text/x-python",
   "name": "python",
   "nbconvert_exporter": "python",
   "pygments_lexer": "ipython3",
   "version": "3.7.3"
  }
 },
 "nbformat": 4,
 "nbformat_minor": 5
}
